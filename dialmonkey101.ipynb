{
 "cells": [
  {
   "cell_type": "markdown",
   "metadata": {},
   "source": [
    "## Running the pipeline\n",
    "\n",
    "This just shows how to run the pipeline and use different configuration files."
   ]
  },
  {
   "cell_type": "code",
   "execution_count": null,
   "metadata": {},
   "outputs": [],
   "source": [
    "from run_dialmonkey import main\n",
    "from collections import namedtuple\n",
    "# just technical hacks, no need to study this\n",
    "ARGS = namedtuple('ARGS', ['conf', 'logging_level', 'user_stream_type', 'input_file', 'output_stream_type', 'output_file', 'num_dials'])\n",
    "ARGS.__new__.__defaults__ = (None,) * len(ARGS._fields)"
   ]
  },
  {
   "cell_type": "markdown",
   "metadata": {},
   "source": [
    "First, we'll use a dummy dialogue system from [conf/sample.conf](conf/sample_conf.yaml). It can only say hello and goodbye, but that's OK for now."
   ]
  },
  {
   "cell_type": "code",
   "execution_count": null,
   "metadata": {
    "scrolled": false
   },
   "outputs": [],
   "source": [
    "# basic dummy configuration\n",
    "args = ARGS(conf='./conf/sample_conf.yaml', num_dials=1)\n",
    "main(args)"
   ]
  },
  {
   "cell_type": "markdown",
   "metadata": {},
   "source": [
    "You can also try this NLU component for public transport (it's originally from Alex). Here it just shows how to process a file-based input. Have a look at the [configuration file](conf/public_transport_cs.yaml) for more details."
   ]
  },
  {
   "cell_type": "code",
   "execution_count": null,
   "metadata": {
    "scrolled": false
   },
   "outputs": [],
   "source": [
    "# file input, file output configuration\n",
    "args = ARGS(conf='./conf/public_transport_cs.yaml', num_dials=1)\n",
    "main(args)"
   ]
  },
  {
   "cell_type": "markdown",
   "metadata": {},
   "source": [
    "## The Conversation Handler -- Main Loop\n",
    "\n",
    "The conversation handler is the class that handles the main input-output loop through the dialogue system -- reading user input, calling all the components (NLU, dialogue manager etc.), and printing out the output.\n",
    "\n",
    "This is how it looks from the inside (with some unimportant details omitted, this is basically what [the code](dialmonkey/conversation_handler.py) does).\n",
    "\n",
    "The first part just does the initial setup (loads the components and sets I/O streams)."
   ]
  },
  {
   "cell_type": "code",
   "execution_count": null,
   "metadata": {},
   "outputs": [],
   "source": [
    "import os\n",
    "import logzero\n",
    "import logging\n",
    "\n",
    "from dialmonkey.utils import load_conf, run_for_n_iterations, DialMonkeyFormatter\n",
    "from dialmonkey.conversation_handler import ConversationHandler\n",
    "\n",
    "# this stuff is just housekeeping -- not so important\n",
    "\n",
    "# setting the command-line arguments\n",
    "args = ARGS(conf='./conf/sample_conf.yaml', num_dials=1, logging_level='ERROR')\n",
    "\n",
    "# setup logging (not important)\n",
    "if args.logging_level:\n",
    "    conf['logging_level'] = args.logging_level\n",
    "elif 'logging_level' not in conf:\n",
    "    conf['logging_level'] = 'NOTSET'\n",
    "\n",
    "formatter = DialMonkeyFormatter(\n",
    "    path_prefix=os.path.join(os.path.abspath(os.path.curdir), 'dialmonkey/'),\n",
    "    # https://docs.python.org/3/library/logging.html#logrecord-attributes\n",
    "    fmt='%(color)s%(asctime)s [%(levelname)1.1s %(relpath)s:%(lineno)s]%(end_color)s %(message)s',\n",
    "    datefmt='%H:%M:%S')\n",
    "\n",
    "logger = logzero.setup_logger(level=getattr(logging, conf['logging_level']),\n",
    "                              formatter=formatter)\n",
    "\n",
    "\n",
    "# the stuff below is actually important\n",
    "\n",
    "# load configuration\n",
    "conf = load_conf(args.conf)\n",
    "\n",
    "# setup input & output streams\n",
    "if args.user_stream_type:\n",
    "    conf['user_stream_type'] = args.user_stream_type\n",
    "if args.input_file:\n",
    "    conf['input_file'] = args.input_file\n",
    "if args.output_stream_type:\n",
    "    conf['output_stream_type'] = args.output_stream_type\n",
    "if args.output_file:\n",
    "    conf['output_file'] = args.output_file\n",
    "\n",
    "# show the loaded components\n",
    "handler = ConversationHandler(conf, logger, should_continue=run_for_n_iterations(args.num_dials))\n",
    "handler.components"
   ]
  },
  {
   "cell_type": "markdown",
   "metadata": {},
   "source": [
    "Now that the components are loaded, we can show how a single dialogue turn looks from the outside:"
   ]
  },
  {
   "cell_type": "code",
   "execution_count": null,
   "metadata": {},
   "outputs": [],
   "source": [
    "from dialmonkey.dialogue import Dialogue\n",
    "# show how works one dialogue turn\n",
    "dial = Dialogue()\n",
    "system_response = ''\n",
    "handler._reset_components()\n",
    "handler._init_components(dial)\n",
    "user_utterance = handler.user_stream(system_response)\n",
    "system_response, eod = handler.get_response(dial, user_utterance)\n",
    "handler.output_stream(system_response)"
   ]
  },
  {
   "cell_type": "markdown",
   "metadata": {},
   "source": [
    "And this is how the same thing looks from the inside -- \n",
    "notice the loop calling all components in a row and passing the `dial` object."
   ]
  },
  {
   "cell_type": "code",
   "execution_count": null,
   "metadata": {},
   "outputs": [],
   "source": [
    "dial = Dialogue()\n",
    "system_response = ''\n",
    "handler._reset_components()\n",
    "handler._init_components(dial)\n",
    "\n",
    "# we set the user input by for for now\n",
    "user_utterance = 'hello'\n",
    "dial.set_user_input(user_utterance)\n",
    "\n",
    "# run the dialogue pipeline (all components from the config)\n",
    "for component in handler.components:\n",
    "    # components pass the same dialogue object\n",
    "    # the dialogue object is modified by each component\n",
    "    # one of the components should call set_system_response() and end_dialogue()\n",
    "    dial = component(dial, handler.logger)\n",
    "    print(f'after component: {component}')\n",
    "    print(f'dialogue nlu: {dial.nlu}')\n",
    "    print(f'dialogue state: {dial.state}')\n",
    "    print(f'system_response: \"{dial.system}\"')\n",
    "    print('-'*80)\n",
    "\n",
    "print(f\"dial.state == dial['state']: {dial.state == dial['state']}\")"
   ]
  },
  {
   "cell_type": "markdown",
   "metadata": {},
   "source": [
    "## Dialogue Act Objects\n",
    "\n",
    "`dialmonkey.da.DA` objects are used as meaning representation. They are structured into \n",
    "dialogue act items (`dialmonkey.da.DAI`), with each DAI carrying an intent, a slot, and a value \n",
    "(and, if the particular NLU supports it, a confidence score).\n",
    "\n",
    "If you have global intents (one per utterance), you just set all DAIs to have the same intent.\n",
    "In case the slot or the value is undefined, they are simply set to `None`."
   ]
  },
  {
   "cell_type": "code",
   "execution_count": null,
   "metadata": {},
   "outputs": [],
   "source": [
    "# da items are structured\n",
    "for act_item in dial.nlu:\n",
    "    print(act_item)\n",
    "    print(f'intent={act_item.intent}, slot={act_item.slot}, value={act_item.value}, confidence={act_item.confidence}')"
   ]
  },
  {
   "cell_type": "code",
   "execution_count": null,
   "metadata": {},
   "outputs": [],
   "source": [
    "from dialmonkey.da import DAI,DA\n",
    "# DAI can be constructed explicitly...\n",
    "da_item = DAI(intent='pay',slot='object',value='taxes', confidence=.5)\n",
    "da = DA([da_item])\n",
    "for act in da: # da.dais is iterable\n",
    "    print(f'DA 1 act: {act}')\n",
    "\n",
    "# ... or implicitly\n",
    "da_item2 = DAI.parse('pay(object=taxes)/0.5')\n",
    "da2 = DA([da_item2])\n",
    "for act in da2:\n",
    "    print(f'DA 2 act: {act}')\n",
    "\n",
    "# DA can be cnstructed straight from str representation...\n",
    "da3 = DA.parse('pay(object=taxes)/0.5')\n",
    "\n",
    "print(f'da == da2 == da3, {da == da2 == da3}')\n",
    "\n",
    "# ... even with multiple items\n",
    "da4 = DA.parse('pay(object=taxes)/0.500&pay(object=Netflix)/0.999')\n",
    "for act in da4: \n",
    "    print(f'DA 4 act: {act}')\n",
    "print(f'da == da4, {da == da4}')"
   ]
  },
  {
   "cell_type": "code",
   "execution_count": null,
   "metadata": {},
   "outputs": [],
   "source": []
  }
 ],
 "metadata": {
  "kernelspec": {
   "display_name": "Python 3",
   "language": "python",
   "name": "python3"
  },
  "language_info": {
   "codemirror_mode": {
    "name": "ipython",
    "version": 3
   },
   "file_extension": ".py",
   "mimetype": "text/x-python",
   "name": "python",
   "nbconvert_exporter": "python",
   "pygments_lexer": "ipython3",
   "version": "3.8.3rc1"
  }
 },
 "nbformat": 4,
 "nbformat_minor": 2
}
