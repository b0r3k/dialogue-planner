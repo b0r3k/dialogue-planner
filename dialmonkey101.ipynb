{
 "cells": [
  {
   "cell_type": "code",
   "execution_count": null,
   "metadata": {},
   "outputs": [],
   "source": [
    "from run_dialmonkey import main\n",
    "from collections import namedtuple\n",
    "# just technical hacks, no need to study this\n",
    "ARGS = namedtuple('ARGS', ['conf', 'logging_level', 'user_stream_type', 'input_file', 'output_stream_type', 'output_file', 'num_dials'])\n",
    "ARGS.__new__.__defaults__ = (None,) * len(ARGS._fields)"
   ]
  },
  {
   "cell_type": "code",
   "execution_count": null,
   "metadata": {
    "scrolled": false
   },
   "outputs": [],
   "source": [
    "# basic dummy configuration\n",
    "args = ARGS(conf='./conf/sample_conf.yaml', num_dials=1)\n",
    "main(args)"
   ]
  },
  {
   "cell_type": "code",
   "execution_count": null,
   "metadata": {
    "scrolled": false
   },
   "outputs": [],
   "source": [
    "# file input, file output configuration\n",
    "args = ARGS(conf='./conf/public_transport_cs.yaml', num_dials=1)\n",
    "main(args)"
   ]
  },
  {
   "cell_type": "code",
   "execution_count": null,
   "metadata": {},
   "outputs": [],
   "source": [
    "import os\n",
    "import logzero\n",
    "import logging\n",
    "\n",
    "from dialmonkey.utils import load_conf, run_for_n_iterations, DialMonkeyFormatter\n",
    "from dialmonkey.conversation_handler import ConversationHandler\n",
    "\n",
    "# important are the last two lines\n",
    "args = ARGS(conf='./conf/sample_conf.yaml', num_dials=1, logging_level='ERROR')\n",
    "# load configuration\n",
    "conf = load_conf(args.conf)\n",
    "\n",
    "# setup logging\n",
    "if args.logging_level:\n",
    "    conf['logging_level'] = args.logging_level\n",
    "elif 'logging_level' not in conf:\n",
    "    conf['logging_level'] = 'NOTSET'\n",
    "\n",
    "formatter = DialMonkeyFormatter(\n",
    "    path_prefix=os.path.join(os.path.abspath(os.path.curdir), 'dialmonkey/'),\n",
    "    # https://docs.python.org/3/library/logging.html#logrecord-attributes\n",
    "    fmt='%(color)s%(asctime)s [%(levelname)1.1s %(relpath)s:%(lineno)s]%(end_color)s %(message)s',\n",
    "    datefmt='%H:%M:%S')\n",
    "\n",
    "logger = logzero.setup_logger(level=getattr(logging, conf['logging_level']),\n",
    "                              formatter=formatter)\n",
    "\n",
    "# setup input & output streams\n",
    "if args.user_stream_type:\n",
    "    conf['user_stream_type'] = args.user_stream_type\n",
    "if args.input_file:\n",
    "    conf['input_file'] = args.input_file\n",
    "if args.output_stream_type:\n",
    "    conf['output_stream_type'] = args.output_stream_type\n",
    "if args.output_file:\n",
    "    conf['output_file'] = args.output_file\n",
    "\n",
    "# show the loaded components\n",
    "handler = ConversationHandler(conf, logger, should_continue=run_for_n_iterations(args.num_dials))\n",
    "handler.components"
   ]
  },
  {
   "cell_type": "code",
   "execution_count": null,
   "metadata": {},
   "outputs": [],
   "source": [
    "from dialmonkey.dialogue import Dialogue\n",
    "# show how works one dialogue turn\n",
    "dial = Dialogue()\n",
    "system_response = ''\n",
    "handler._reset_components()\n",
    "handler._init_components(dial)\n",
    "user_utterance = handler.user_stream(system_response)\n",
    "system_response, eod = handler.get_response(dial, user_utterance)\n",
    "handler.output_stream(system_response)"
   ]
  },
  {
   "cell_type": "code",
   "execution_count": null,
   "metadata": {},
   "outputs": [],
   "source": [
    "dial = Dialogue()\n",
    "system_response = ''\n",
    "handler._reset_components()\n",
    "handler._init_components(dial)\n",
    "user_utterance = 'hello'\n",
    "dial.set_user_input(user_utterance)\n",
    "# run the dialogue pipeline (all components from the config)\n",
    "for component in handler.components:\n",
    "    # components pass the same dialogue object\n",
    "    # the dialogue object is modified by each component\n",
    "    # one of the components should call set_system_response() and end_dialogue()\n",
    "    dial = component(dial, handler.logger)\n",
    "    print(f'after component: {component}')\n",
    "    print(f'dialogue nlu: {dial.nlu}')\n",
    "    print(f'dialogue state: {dial.state}')\n",
    "    print(f'system_response: \"{dial.system}\"')\n",
    "    print('-'*80)\n",
    "\n",
    "print(f\"dial.state == dial['state']: {dial.state == dial['state']}\")"
   ]
  },
  {
   "cell_type": "code",
   "execution_count": null,
   "metadata": {},
   "outputs": [],
   "source": [
    "# da items are structured\n",
    "for act_item in dial.nlu:\n",
    "    print(act_item)\n",
    "    print(f'intent={act_item.intent}, slot={act_item.slot}, value={act_item.value}, confidence={act_item.confidence}')"
   ]
  },
  {
   "cell_type": "code",
   "execution_count": null,
   "metadata": {},
   "outputs": [],
   "source": [
    "from dialmonkey.da import DAI,DA\n",
    "# DAI can be constructed explicitly...\n",
    "da_item = DAI(intent='pay',slot='object',value='taxes', confidence=.5)\n",
    "da = DA([da_item])\n",
    "for act in da: # da.dais is iterable\n",
    "    print(f'DA 1 act: {act}')\n",
    "\n",
    "# ... or implicitly\n",
    "da_item2 = DAI.parse('pay(object=taxes)/0.5')\n",
    "da2 = DA([da_item2])\n",
    "for act in da2:\n",
    "    print(f'DA 2 act: {act}')\n",
    "\n",
    "# DA can be cnstructed straight from str representation...\n",
    "da3 = DA.parse('pay(object=taxes)/0.5')\n",
    "\n",
    "print(f'da == da2 == da3, {da == da2 == da3}')\n",
    "\n",
    "# ... even with multiple items\n",
    "da4 = DA.parse('pay(object=taxes)/0.500&pay(object=Netflix)/0.999')\n",
    "for act in da4: \n",
    "    print(f'DA 4 act: {act}')\n",
    "print(f'da == da4, {da == da4}')"
   ]
  },
  {
   "cell_type": "code",
   "execution_count": null,
   "metadata": {},
   "outputs": [],
   "source": []
  }
 ],
 "metadata": {
  "kernelspec": {
   "display_name": "venv",
   "language": "python",
   "name": "venv"
  },
  "language_info": {
   "codemirror_mode": {
    "name": "ipython",
    "version": 3
   },
   "file_extension": ".py",
   "mimetype": "text/x-python",
   "name": "python",
   "nbconvert_exporter": "python",
   "pygments_lexer": "ipython3",
   "version": "3.6.9"
  }
 },
 "nbformat": 4,
 "nbformat_minor": 2
}
